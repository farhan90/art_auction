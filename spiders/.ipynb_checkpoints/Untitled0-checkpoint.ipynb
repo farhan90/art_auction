{
 "metadata": {
  "name": "",
  "signature": "sha256:8bcaeead0a579a28ce37c2da9d12b76e01178374c8123c614e9c05c9c6644b42"
 },
 "nbformat": 3,
 "nbformat_minor": 0,
 "worksheets": [
  {
   "cells": [
    {
     "cell_type": "code",
     "collapsed": false,
     "input": [
      "import csv\n",
      "import numpy as np\n",
      "\n",
      "initial_data = []\n",
      "i = 0\n",
      "with open('art_data.csv', 'rb') as csvfile:\n",
      "    datareader = csv.reader(csvfile, delimiter=',', quotechar='\"')\n",
      "    \n",
      "    for row in datareader:\n",
      "        if(i > 0):\n",
      "            lower = int(row[3].replace(\",\",\"\"))\n",
      "            upper = int(row[4].replace(\",\",\"\"))\n",
      "            actual = int(row[5])\n",
      "            if(row[2] == \"GBP\"):\n",
      "                lower = lower*1.6\n",
      "                upper = upper*1.6\n",
      "                actual = actual*1.6\n",
      "            initial_data.append([lower,upper,actual])\n",
      "        i = i+1\n",
      "print len(initial_data)\n",
      "data = np.array(initial_data)\n",
      "print data[350]"
     ],
     "language": "python",
     "metadata": {},
     "outputs": [
      {
       "output_type": "stream",
       "stream": "stdout",
       "text": [
        "758\n",
        "[ 48000.  64000.  40000.]\n"
       ]
      }
     ],
     "prompt_number": 1
    },
    {
     "cell_type": "code",
     "collapsed": false,
     "input": [
      "less_than_estimate = 0\n",
      "more_than_estimate = 0\n",
      "in_estimate = 0\n",
      "for i in range(0,len(data)):\n",
      "    if(data[i,2] > data[i,1]):\n",
      "        more_than_estimate+=1\n",
      "    elif(data[i,2] < data[i,0]):\n",
      "        less_than_estimate +=1\n",
      "    else:\n",
      "        in_estimate +=1\n",
      "print less_than_estimate,more_than_estimate,in_estimate\n",
      "\n",
      "import matplotlib.pyplot as plt\n",
      "fig, ax = plt.subplots()\n",
      "\n",
      "index = np.array([1,2,3])\n",
      "result = [less_than_estimate,in_estimate,more_than_estimate]\n",
      "rects1 = plt.bar(index, result)\n",
      "bar_width = 0.35\n",
      "\n",
      "plt.xlabel('Variation from estimate')\n",
      "plt.ylabel('Number of Art pieces')\n",
      "plt.title('Number of pieces based on variation from estimate')\n",
      "plt.xticks(index + bar_width, ('Less', 'In Range', 'More'))\n",
      "plt.legend()\n",
      "plt.show()"
     ],
     "language": "python",
     "metadata": {},
     "outputs": [
      {
       "output_type": "stream",
       "stream": "stdout",
       "text": [
        "238 328 192\n"
       ]
      },
      {
       "output_type": "stream",
       "stream": "stderr",
       "text": [
        "C:\\Anaconda\\lib\\site-packages\\matplotlib\\axes.py:4747: UserWarning: No labeled objects found. Use label='...' kwarg on individual plots.\n",
        "  warnings.warn(\"No labeled objects found. \"\n"
       ]
      }
     ],
     "prompt_number": 2
    },
    {
     "cell_type": "code",
     "collapsed": false,
     "input": [
      "from sklearn import datasets, linear_model\n",
      "\n",
      "regr = linear_model.LinearRegression()\n",
      "split_point = 4*len(data)/5\n",
      "features = data[0:split_point,0:2]\n",
      "value = data[0:split_point,2]\n",
      "regr.fit(features,value)\n",
      "\n",
      "print regr.coef_\n",
      "print regr.intercept_\n",
      "test = data[split_point:len(data), 0:2]\n",
      "val = data[split_point:len(data), 2]\n",
      "predictions = np.zeros(len(test))\n",
      "diff = np.zeros(len(test))\n",
      "for i in range(0,len(test)):\n",
      "    predictions[i] = regr.predict(test[i])\n",
      "    mean = (test[i,0] + test[i,1] )/2\n",
      "    diff[i] = (abs(predictions[i] - val[i])/mean)*100\n",
      "    #print val[i], predictions[i],i+split_point\n",
      "    \n",
      "\n",
      "x = np.arange(len(test));\n",
      "plt.plot(x, diff)\n",
      "plt.show()"
     ],
     "language": "python",
     "metadata": {},
     "outputs": [
      {
       "output_type": "stream",
       "stream": "stdout",
       "text": [
        "[ 10.89675141  -6.23465807]\n",
        "-11756.0440725\n"
       ]
      }
     ],
     "prompt_number": 14
    },
    {
     "cell_type": "code",
     "collapsed": false,
     "input": [
      "from sklearn.linear_model import ElasticNet\n",
      "from sklearn.metrics import r2_score\n",
      "\n",
      "enet = ElasticNet(alpha=.1, l1_ratio=.8)\n",
      "print enet.max_iter\n",
      "\n",
      "enet_trained = enet.fit(features, value)\n",
      "y_pred_enet = enet_trained.predict(test)\n",
      "print y_pred_enet[10]\n",
      "print enet_trained.coef_\n",
      "r2_score_enet = r2_score(val, y_pred_enet)\n",
      "print r2_score_enet"
     ],
     "language": "python",
     "metadata": {},
     "outputs": [
      {
       "output_type": "stream",
       "stream": "stdout",
       "text": [
        "1000\n",
        "8464.41093299\n",
        "[ 10.49301946  -5.95991675]\n",
        "-0.536663527801\n"
       ]
      }
     ],
     "prompt_number": 40
    },
    {
     "cell_type": "code",
     "collapsed": false,
     "input": [],
     "language": "python",
     "metadata": {},
     "outputs": []
    }
   ],
   "metadata": {}
  }
 ]
}