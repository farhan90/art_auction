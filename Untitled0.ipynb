{
 "metadata": {
  "name": "",
  "signature": "sha256:4d0637a4c1630fa2a4eddba26baa86c81f54c1a3dd4dfeb79e82c2663074f0e7"
 },
 "nbformat": 3,
 "nbformat_minor": 0,
 "worksheets": [
  {
   "cells": [
    {
     "cell_type": "code",
     "collapsed": false,
     "input": [
      "import csv\n",
      "import numpy as np\n",
      "\n",
      "initial_data = []\n",
      "i = 0\n",
      "with open('art_data.csv', 'rb') as csvfile:\n",
      "    datareader = csv.reader(csvfile, delimiter=',', quotechar='\"')\n",
      "    \n",
      "    for row in datareader:\n",
      "        if(i > 0):\n",
      "            lower = int(row[3].replace(\",\",\"\"))\n",
      "            upper = int(row[4].replace(\",\",\"\"))\n",
      "            actual = int(row[5])\n",
      "            if(row[2] == \"GBP\"):\n",
      "                lower = lower*1.6\n",
      "                upper = upper*1.6\n",
      "                actual = actual*1.6\n",
      "            initial_data.append([lower,upper,actual])\n",
      "        i = i+1\n",
      "print len(initial_data)\n",
      "data = np.array(initial_data)\n",
      "print data[350]"
     ],
     "language": "python",
     "metadata": {},
     "outputs": [
      {
       "output_type": "stream",
       "stream": "stdout",
       "text": [
        "758\n",
        "[ 48000.  64000.  40000.]\n"
       ]
      }
     ],
     "prompt_number": 21
    },
    {
     "cell_type": "code",
     "collapsed": false,
     "input": [
      "less_than_estimate = 0\n",
      "more_than_estimate = 0\n",
      "in_estimate = 0\n",
      "for i in range(0,len(data)):\n",
      "    if(data[i,2] > data[i,1]):\n",
      "        more_than_estimate+=1\n",
      "    elif(data[i,2] < data[i,0]):\n",
      "        less_than_estimate +=1\n",
      "    else:\n",
      "        in_estimate +=1\n",
      "print less_than_estimate,more_than_estimate,in_estimate\n",
      "\n",
      "import matplotlib.pyplot as plt\n",
      "fig, ax = plt.subplots()\n",
      "\n",
      "index = np.array([1,2,3])\n",
      "result = [less_than_estimate,in_estimate,more_than_estimate]\n",
      "rects1 = plt.bar(index, result)\n",
      "bar_width = 0.35\n",
      "\n",
      "plt.xlabel('Variation from estimate')\n",
      "plt.ylabel('Number of Art pieces')\n",
      "plt.title('Number of pieces based on variation from estimate')\n",
      "plt.xticks(index + bar_width, ('Less', 'In Range', 'More'))\n",
      "plt.legend()\n",
      "plt.show()"
     ],
     "language": "python",
     "metadata": {},
     "outputs": [
      {
       "output_type": "stream",
       "stream": "stdout",
       "text": [
        "238 328 192\n"
       ]
      }
     ],
     "prompt_number": 38
    },
    {
     "cell_type": "code",
     "collapsed": false,
     "input": [
      "from sklearn import datasets, linear_model\n",
      "\n",
      "regr = linear_model.LinearRegression()\n",
      "split_point = 4*len(data)/5\n",
      "features = data[0:split_point,0:2]\n",
      "value = data[0:split_point,2]\n",
      "regr.fit(features,value)\n",
      "\n",
      "print regr.coef_\n",
      "print regr.intercept_\n",
      "test = data[split_point:len(data), 0:2]\n",
      "val = data[split_point:len(data), 2]\n",
      "predictions = np.zeros(len(test))\n",
      "diff = np.zeros(len(test))\n",
      "for i in range(0,len(test)):\n",
      "    predictions[i] = regr.predict(test[i])\n",
      "    if val[i] != 0:\n",
      "        diff[i] = (abs(predictions[i] - val[i])/val[i])*100\n",
      "    #print val[i], predictions[i],i+split_point\n",
      "    \n",
      "plt.xlabel('Index')\n",
      "plt.ylabel('Percentage of variation')\n",
      "plt.title('Variation for the first model')\n",
      "x = np.arange(len(test));\n",
      "plt.plot(x, diff)\n",
      "plt.show()"
     ],
     "language": "python",
     "metadata": {},
     "outputs": [
      {
       "output_type": "stream",
       "stream": "stdout",
       "text": [
        "[ 10.89675141  -6.23465807]\n",
        "-11756.0440725\n"
       ]
      }
     ],
     "prompt_number": 37
    },
    {
     "cell_type": "code",
     "collapsed": false,
     "input": [
      "import pylab as pl\n",
      "\n",
      "total_features = data[0:len(data), 0:2];\n",
      "\n",
      "means = np.zeros((len(data),1))\n",
      "for i in range(0,len(data)):\n",
      "    means[i][0] = (data[i][0] + data[i][0])/2\n",
      "#means = np.mean(total_features,axis=1)\n",
      "total_values = data[0:len(data), 2];\n",
      "\n",
      "print means.shape\n",
      "print total_values.shape\n",
      "\n",
      "regr2 = linear_model.LinearRegression()\n",
      "regr2.fit(means,total_values)\n",
      "\n",
      "pl.scatter(means, total_values,  color='black')\n",
      "pl.plot(means, regr2.predict(means), color='blue',\n",
      "        linewidth=3)\n",
      "\n",
      "plt.xlabel('Mean of upper and lower estimate')\n",
      "plt.ylabel('Actual value')\n",
      "plt.title('Plot of simple regression model')\n",
      "\n",
      "\n",
      "pl.show()"
     ],
     "language": "python",
     "metadata": {},
     "outputs": [
      {
       "output_type": "stream",
       "stream": "stdout",
       "text": [
        "(758L, 1L)\n",
        "(758L,)\n"
       ]
      }
     ],
     "prompt_number": 36
    },
    {
     "cell_type": "code",
     "collapsed": false,
     "input": [
      "from sklearn.linear_model import ElasticNet\n",
      "from sklearn.metrics import r2_score\n",
      "\n",
      "enet = ElasticNet(alpha=.1, l1_ratio=.8)\n",
      "print enet.max_iter\n",
      "\n",
      "enet_trained = enet.fit(features, value)\n",
      "y_pred_enet = enet_trained.predict(test)\n",
      "print y_pred_enet[10]\n",
      "print enet_trained.coef_\n",
      "r2_score_enet = r2_score(val, y_pred_enet)\n",
      "print r2_score_enet"
     ],
     "language": "python",
     "metadata": {},
     "outputs": []
    },
    {
     "cell_type": "code",
     "collapsed": false,
     "input": [],
     "language": "python",
     "metadata": {},
     "outputs": []
    }
   ],
   "metadata": {}
  }
 ]
}